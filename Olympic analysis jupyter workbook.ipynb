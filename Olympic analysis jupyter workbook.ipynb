{
 "cells": [
  {
   "cell_type": "code",
   "execution_count": null,
   "metadata": {},
   "outputs": [],
   "source": [
    "import pandas as pd\n",
    "import numpy as np\n"
   ]
  },
  {
   "cell_type": "markdown",
   "metadata": {},
   "source": [
    "#  Olympic data set analysis"
   ]
  },
  {
   "cell_type": "markdown",
   "metadata": {},
   "source": [
    "Often people wonder if how a country performs is related to its, Economic status. it isbelived that people from more economically adept places have a better chance at plaacing at the games. people also wonder if hosting an olypmic games provides a siginficant boost to the economy that they are in. This anlysis will inclue the ETL, of various relevant documents such as medal data, olympic perfromance and partipatyion data, into an organisaed warehouse where visualisations will stem from to answer the questions above.\n",
    "\n",
    "0lypmic performance will be measures in medal counts of that partcular country, and economic perforamce indicated by the gross domestic product of that partcular country (GDP), the data used will stem from 2000 olympics to the current 2023 olympic games to provide a recent but comprhensive suite of data."
   ]
  },
  {
   "cell_type": "markdown",
   "metadata": {},
   "source": [
    "## ETL Process \n",
    "Below we conduct the etl, process creating our different dimensions and then fact tables. once we do that we will then connect to a pgadmin remost server and from there build hierachies and so forth."
   ]
  },
  {
   "cell_type": "code",
   "execution_count": null,
   "metadata": {},
   "outputs": [],
   "source": [
    "\n",
    "\n",
    "\n"
   ]
  },
  {
   "cell_type": "code",
   "execution_count": null,
   "metadata": {},
   "outputs": [],
   "source": []
  },
  {
   "cell_type": "code",
   "execution_count": null,
   "metadata": {},
   "outputs": [],
   "source": []
  }
 ],
 "metadata": {
  "kernelspec": {
   "display_name": "cits2402-2024",
   "language": "python",
   "name": "python3"
  },
  "language_info": {
   "codemirror_mode": {
    "name": "ipython",
    "version": 3
   },
   "file_extension": ".py",
   "mimetype": "text/x-python",
   "name": "python",
   "nbconvert_exporter": "python",
   "pygments_lexer": "ipython3",
   "version": "3.13.0"
  }
 },
 "nbformat": 4,
 "nbformat_minor": 2
}
